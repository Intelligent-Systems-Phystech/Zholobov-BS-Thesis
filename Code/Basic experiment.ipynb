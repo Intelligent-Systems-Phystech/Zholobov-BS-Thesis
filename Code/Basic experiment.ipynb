{
 "cells": [
  {
   "cell_type": "markdown",
   "metadata": {},
   "source": [
    "Подключаем необходимые библиотеки"
   ]
  },
  {
   "cell_type": "code",
   "execution_count": 52,
   "metadata": {},
   "outputs": [],
   "source": [
    "import matplotlib.pyplot as plt\n",
    "import numpy as np\n",
    "from numpy.linalg import norm\n",
    "%matplotlib inline\n",
    "import matplotlib.pylab as pylab"
   ]
  },
  {
   "cell_type": "markdown",
   "metadata": {},
   "source": [
    "## Квадратичная функция"
   ]
  },
  {
   "cell_type": "markdown",
   "metadata": {},
   "source": [
    "Реализация необходимых функций. Рассматривается функция вида $$f(x) = \\frac{1}{2}x^{\\mathsf{T}}Ax - b^{\\mathsf{T}}x$$"
   ]
  },
  {
   "cell_type": "code",
   "execution_count": 53,
   "metadata": {},
   "outputs": [],
   "source": [
    "def f(x, A, b):  #Функция\n",
    "    '''\n",
    "    Целевая функция\n",
    "    '''\n",
    "    return 0.5 * x.dot(A.dot(x)) - np.dot(b, x)\n",
    "def grad_f(x, A): #Ее градиент\n",
    "    '''\n",
    "    Градиент целевой функции\n",
    "    '''\n",
    "    return A.dot(x) - b"
   ]
  },
  {
   "cell_type": "markdown",
   "metadata": {},
   "source": [
    "### Градиентный спуск"
   ]
  },
  {
   "cell_type": "code",
   "execution_count": 54,
   "metadata": {},
   "outputs": [],
   "source": [
    "def grad_descent(f, grad_f, x_0, alpha = 0.001, num_iter = 1000, loss = 1e-6, return_gradient_norm = False):\n",
    "    '''\n",
    "    Реализация градиентного спуска с постоянным шагом. \n",
    "    return_gradient_norm = True - выводит вторые нормы всех градиентов посчитанных точек\n",
    "    '''\n",
    "    current_iter = 1\n",
    "    x = x_0\n",
    "    x_convergence = [x_0]\n",
    "    grad_norm_convergence = [norm(grad_f(x_0))]\n",
    "    while current_iter <= num_iter and norm(grad_f(x)) > loss:\n",
    "        x = x - alpha * grad_f(x)\n",
    "        x_convergence.append(x)\n",
    "        if return_gradient_norm:\n",
    "            grad_norm_convergence.append(norm(grad_f(x)))\n",
    "    \n",
    "    if return_gradient_norm:\n",
    "        return x, x_convergence, norm(grad_f(x)), grad_norm_convergence\n",
    "    else:\n",
    "        return x, x_convergence, norm(grad_f(x))"
   ]
  },
  {
   "cell_type": "markdown",
   "metadata": {},
   "source": [
    "Инициализируем данные для функции и начальную точку"
   ]
  },
  {
   "cell_type": "code",
   "execution_count": 55,
   "metadata": {},
   "outputs": [],
   "source": [
    "A = np.array([\n",
    "     [0.78, -0.02, -0.12, -0.14],\n",
    "     [-0.02, 0.86, -0.04, 0.06],\n",
    "     [-0.12, -0.04, 0.72, -0.08],\n",
    "     [-0.14, 0.06, -0.08, 0.74]\n",
    "])\n",
    "b = np.array([0.76, 0.08, 1.12, 0.68])\n",
    "\n",
    "arr_f = lambda x: f(x, A, b) #Теперь фукнция уже с заданной матрицей A и b\n",
    "gr_f = lambda x: grad_f(x, A) #Градиент с заданной матрицей A\n",
    "\n",
    "x0 = np.array([0,0,0,0], dtype = np.float64) #Начальная точка"
   ]
  },
  {
   "cell_type": "markdown",
   "metadata": {},
   "source": [
    "Запускаем метод без вывода норм градиентов"
   ]
  },
  {
   "cell_type": "code",
   "execution_count": 56,
   "metadata": {},
   "outputs": [],
   "source": [
    "x, x_convergence, current_norm_gradient = grad_descent(arr_f, gr_f, x0)"
   ]
  },
  {
   "cell_type": "markdown",
   "metadata": {},
   "source": [
    "Смотрим на норму крайней точки"
   ]
  },
  {
   "cell_type": "code",
   "execution_count": 57,
   "metadata": {},
   "outputs": [
    {
     "name": "stdout",
     "output_type": "stream",
     "text": [
      "Current gradient norm: 0.000001\n"
     ]
    }
   ],
   "source": [
    "print((\"Current gradient norm: %f\")%(current_norm_gradient))"
   ]
  },
  {
   "cell_type": "markdown",
   "metadata": {},
   "source": [
    "### Сходимость по норме градиента"
   ]
  },
  {
   "cell_type": "markdown",
   "metadata": {},
   "source": [
    "Запускаем метод с выводом норм градиентов"
   ]
  },
  {
   "cell_type": "code",
   "execution_count": 58,
   "metadata": {},
   "outputs": [],
   "source": [
    "x, x_convergence, current_norm_gradient, grad_norm_convergence = grad_descent(arr_f, gr_f, x0, return_gradient_norm=True)"
   ]
  },
  {
   "cell_type": "markdown",
   "metadata": {},
   "source": [
    "Смотрим на количество точек"
   ]
  },
  {
   "cell_type": "code",
   "execution_count": 59,
   "metadata": {
    "scrolled": true
   },
   "outputs": [
    {
     "data": {
      "text/plain": [
       "27314"
      ]
     },
     "execution_count": 59,
     "metadata": {},
     "output_type": "execute_result"
    }
   ],
   "source": [
    "len(grad_norm_convergence)"
   ]
  },
  {
   "cell_type": "markdown",
   "metadata": {},
   "source": [
    "Оставим только часть точек, так как их довольно много."
   ]
  },
  {
   "cell_type": "code",
   "execution_count": 60,
   "metadata": {},
   "outputs": [],
   "source": [
    "plot_grad_norm_convergence = [grad_norm_convergence[i] for i in range(len(grad_norm_convergence)) if i % 100 == 0 ]\n",
    "plot_x_convergence = [x_convergence[i]  for i in range(len(x_convergence)) if i % 100 == 0]"
   ]
  },
  {
   "cell_type": "markdown",
   "metadata": {},
   "source": [
    "Далее идет ячейка для построения графика, показывающего результаты оптимизации"
   ]
  },
  {
   "cell_type": "code",
   "execution_count": 61,
   "metadata": {},
   "outputs": [
    {
     "name": "stderr",
     "output_type": "stream",
     "text": [
      "No handles with labels found to put in legend.\n"
     ]
    },
    {
     "data": {
      "image/png": "[encoded data removed]",
      "text/plain": [
       "<Figure size 720x576 with 1 Axes>"
      ]
     },
     "metadata": {
      "needs_background": "light"
     },
     "output_type": "display_data"
    }
   ],
   "source": [
    "\n",
    "plt.figure(figsize=[10, 8])\n",
    "plt.loglog(np.linspace(1,len(plot_grad_norm_convergence), len(plot_grad_norm_convergence)), plot_grad_norm_convergence)\n",
    "plt.xticks(fontsize = 20)\n",
    "plt.yticks(fontsize = 20)\n",
    "plt.grid()\n",
    "plt.legend()\n",
    "plt.title('Gradient method for quadratic task',fontsize=15)\n",
    "plt.ylabel(r\"$||\\nabla f(x_k)||$\", fontsize=20)\n",
    "plt.xlabel(r\"Iterations\", fontsize=20)\n",
    "plt.savefig('example_problem.png')"
   ]
  },
  {
   "cell_type": "code",
   "execution_count": null,
   "metadata": {},
   "outputs": [],
   "source": []
  }
 ],
 "metadata": {
  "kernelspec": {
   "display_name": "Python 3",
   "language": "python",
   "name": "python3"
  },
  "language_info": {
   "codemirror_mode": {
    "name": "ipython",
    "version": 3
   },
   "file_extension": ".py",
   "mimetype": "text/x-python",
   "name": "python",
   "nbconvert_exporter": "python",
   "pygments_lexer": "ipython3",
   "version": "3.7.9"
  }
 },
 "nbformat": 4,
 "nbformat_minor": 4
}
